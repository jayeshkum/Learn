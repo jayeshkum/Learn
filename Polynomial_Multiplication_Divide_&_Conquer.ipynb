{
  "nbformat": 4,
  "nbformat_minor": 5,
  "metadata": {
    "colab": {
      "name": "Assignment_3_-_Divide_and_Conquer_Practice.ipynb",
      "provenance": [],
      "collapsed_sections": [
        "continuous-daily",
        "handed-senegal"
      ],
      "include_colab_link": true
    },
    "kernelspec": {
      "display_name": "Python 3",
      "language": "python",
      "name": "python3"
    },
    "language_info": {
      "codemirror_mode": {
        "name": "ipython",
        "version": 3
      },
      "file_extension": ".py",
      "mimetype": "text/x-python",
      "name": "python",
      "nbconvert_exporter": "python",
      "pygments_lexer": "ipython3",
      "version": "3.8.6"
    }
  },
  "cells": [
    {
      "cell_type": "markdown",
      "metadata": {
        "id": "view-in-github",
        "colab_type": "text"
      },
      "source": [
        "<a href=\"https://colab.research.google.com/github/jayeshkumars/Learn-Data-Science/blob/master/Polynomial_Multiplication_Divide_%26_Conquer.ipynb\" target=\"_parent\"><img src=\"https://colab.research.google.com/assets/colab-badge.svg\" alt=\"Open In Colab\"/></a>"
      ]
    },
    {
      "cell_type": "code",
      "metadata": {
        "colab": {
          "base_uri": "https://localhost:8080/"
        },
        "id": "distinct-savings",
        "outputId": "af10960c-d8ed-4d6e-804a-27e1524dd2f8"
      },
      "source": [
        "# Jovian Commit Essentials\n",
        "# Please retain and execute this cell without modifying the contents for `jovian.commit` to work\n",
        "!pip install jovian --upgrade -q\n",
        "import jovian\n",
        "jovian.set_project('assignment-3-divide-and-conquer-practice')\n",
        "jovian.set_colab_id('1E1oYYq7wh357oNXs9oHyadQOwMKuVFvq')"
      ],
      "id": "distinct-savings",
      "execution_count": 1,
      "outputs": [
        {
          "output_type": "stream",
          "text": [
            "\u001b[?25l\r\u001b[K     |████▉                           | 10kB 19.3MB/s eta 0:00:01\r\u001b[K     |█████████▊                      | 20kB 21.8MB/s eta 0:00:01\r\u001b[K     |██████████████▌                 | 30kB 11.6MB/s eta 0:00:01\r\u001b[K     |███████████████████▍            | 40kB 9.2MB/s eta 0:00:01\r\u001b[K     |████████████████████████▏       | 51kB 7.6MB/s eta 0:00:01\r\u001b[K     |█████████████████████████████   | 61kB 8.7MB/s eta 0:00:01\r\u001b[K     |████████████████████████████████| 71kB 4.3MB/s \n",
            "\u001b[?25h  Building wheel for uuid (setup.py) ... \u001b[?25l\u001b[?25hdone\n"
          ],
          "name": "stdout"
        }
      ]
    },
    {
      "cell_type": "markdown",
      "metadata": {
        "id": "urban-shadow"
      },
      "source": [
        "# Assignment 3 - Divide-n-Conquer Algorithms in Python\n",
        "\n",
        "_This assignment is a part of the course [\"Data Structures and Algorithms in Python\"](https://jovian.ai/learn/data-structures-and-algorithms-in-python)._\n",
        "\n",
        "In this assignment, you will implement an efficient algorithm for polynomial multiplication.\n",
        "\n",
        "As you go through this notebook, you will find the symbol **???** in certain places. To complete this assignment, you must replace all the **???** with appropriate values, expressions or statements to ensure that the notebook runs properly end-to-end. \n",
        "\n",
        "**Guidelines**\n",
        "\n",
        "1. Make sure to run all the code cells, otherwise you may get errors like `NameError` for undefined variables.\n",
        "2. Do not change variable names, delete cells or disturb other existing code. It may cause problems during evaluation.\n",
        "3. In some cases, you may need to add some code cells or new statements before or after the line of code containing the **???**. \n",
        "4. Since you'll be using a temporary online service for code execution, save your work by running `jovian.commit` at regular intervals.\n",
        "5. Questions marked **(Optional)** will not be considered for evaluation, and can be skipped. They are for your learning.\n",
        "6. If you are stuck, you can ask for help on the [community forum] (TODO - add link). Post errors or ask for hints, but **please don't ask for OR share the full working answer code** on the forum.\n",
        "7. There are some tests included with this notebook to help you test your implementation. However, after submission your code will be tested with some hidden test cases. Make sure to test your code exhaustively to cover all edge cases.\n",
        "\n",
        "\n",
        "**Important Links**\n",
        "\n",
        "* Submit your work here: https://jovian.ai/learn/data-structures-and-algorithms-in-python/assignment/assignment-3-sorting-and-divide-conquer-practice\n",
        "* Ask questions and get help: https://jovian.ai/forum/c/data-structures-and-algorithms-in-python/assignment-3/89\n",
        "* Lesson 3 video for review: https://jovian.ai/learn/data-structures-and-algorithms-in-python/lesson/lesson-3-sorting-algorithms-and-divide-and-conquer\n",
        "* Lesson 3 notebook for review: https://jovian.ai/aakashns/python-sorting-divide-and-conquer\n"
      ],
      "id": "urban-shadow"
    },
    {
      "cell_type": "markdown",
      "metadata": {
        "id": "comprehensive-myrtle"
      },
      "source": [
        "### How to Run the Code and Save Your Work\n",
        "\n",
        "**Option 1: Running using free online resources (1-click, recommended)**: Click the **Run** button at the top of this page and select **Run on Binder**. You can also select \"Run on Colab\" or \"Run on Kaggle\", but you'll need to create an account on [Google Colab](https://colab.research.google.com) or [Kaggle](https://kaggle.com) to use these platforms.\n",
        "\n",
        "\n",
        "**Option 2: Running on your computer locally**: To run the code on your computer locally, you'll need to set up [Python](https://www.python.org) & [Conda](https://docs.conda.io/projects/conda/en/latest/user-guide/install/), download the notebook and install the required libraries. Click the **Run** button at the top of this page, select the **Run Locally** option, and follow the instructions.\n",
        "\n",
        "**Saving your work**: You can save a snapshot of the assignment to your [Jovian](https://jovian.ai) profile, so that you can access it later and continue your work. Keep saving your work by running `jovian.commit` from time to time."
      ],
      "id": "comprehensive-myrtle"
    },
    {
      "cell_type": "code",
      "metadata": {
        "id": "general-creature"
      },
      "source": [
        "project='assignment-3-divide-and-conquer-practice'"
      ],
      "id": "general-creature",
      "execution_count": 2,
      "outputs": []
    },
    {
      "cell_type": "code",
      "metadata": {
        "id": "quick-charlotte"
      },
      "source": [
        "!pip install jovian --upgrade --quiet"
      ],
      "id": "quick-charlotte",
      "execution_count": 3,
      "outputs": []
    },
    {
      "cell_type": "code",
      "metadata": {
        "colab": {
          "base_uri": "https://localhost:8080/",
          "height": 91
        },
        "id": "moved-bibliography",
        "outputId": "b0f96505-f2a9-4ae0-f775-20df52b9461c"
      },
      "source": [
        "import jovian\n",
        "jovian.commit(project=project, environment=None)"
      ],
      "id": "moved-bibliography",
      "execution_count": 5,
      "outputs": [
        {
          "output_type": "stream",
          "text": [
            "[jovian] Detected Colab notebook...\u001b[0m\n",
            "[jovian] Uploading colab notebook to Jovian...\u001b[0m\n",
            "[jovian] Committed successfully! https://jovian.ai/jayeshkum/assignment-3-divide-and-conquer-practice\u001b[0m\n"
          ],
          "name": "stdout"
        },
        {
          "output_type": "execute_result",
          "data": {
            "application/vnd.google.colaboratory.intrinsic+json": {
              "type": "string"
            },
            "text/plain": [
              "'https://jovian.ai/jayeshkum/assignment-3-divide-and-conquer-practice'"
            ]
          },
          "metadata": {
            "tags": []
          },
          "execution_count": 5
        }
      ]
    },
    {
      "cell_type": "markdown",
      "metadata": {
        "id": "awful-thomson"
      },
      "source": [
        "## Problem Statement - Polynomial Multiplication\n",
        "\n",
        "> Given two polynomials represented by two lists, write a function that efficiently multiplies given two polynomials. For example, the lists `[2, 0, 5, 7]` and `[3, 4, 2]` represent the polynomials $2 + 5x^2 + 7x^3$ and $3 + 4x + 2x^2$. \n",
        "> \n",
        "> Their product is \n",
        ">\n",
        "> $(2 \\times 3) + (2 \\times 4 + 0 \\times 3)x + (2 \\times 2 + 3 \\times 5 + 4 \\times 0)x^2 + (7 \\times 3 + 5 \\times 4 + 0 \\times 2)x^3 + (7 \\times 4 + 5 \\times 2)x^4 + (7 \\times 2)x^5$ i.e. \n",
        ">\n",
        ">$6 + 8x + 19x^2 + 41x^3 + 38x^4 + 14x^5$\n",
        "> \n",
        ">It can be represented by the list `[6, 8, 19, 41, 38, 14]`.\n"
      ],
      "id": "awful-thomson"
    },
    {
      "cell_type": "markdown",
      "metadata": {
        "id": "separated-madonna"
      },
      "source": [
        "## The Method\n",
        "\n",
        "Here's the systematic strategy we'll apply for solving problems:\n",
        "\n",
        "1. State the problem clearly. Identify the input & output formats.\n",
        "2. Come up with some example inputs & outputs. Try to cover all edge cases.\n",
        "3. Come up with a correct solution for the problem. State it in plain English.\n",
        "4. Implement the solution and test it using example inputs. Fix bugs, if any.\n",
        "5. Analyze the algorithm's complexity and identify inefficiencies, if any.\n",
        "6. Apply the right technique to overcome the inefficiency. Repeat steps 3 to 6.\n",
        "\n",
        "This approach is explained in detail in [Lesson 1](https://jovian.ai/learn/data-structures-and-algorithms-in-python/lesson/lesson-1-binary-search-linked-lists-and-complexity) of the course. Let's apply this approach step-by-step."
      ],
      "id": "separated-madonna"
    },
    {
      "cell_type": "markdown",
      "metadata": {
        "id": "remarkable-production"
      },
      "source": [
        "## Solution\n",
        "\n",
        "\n",
        "### 1. State the problem clearly. Identify the input & output formats.\n",
        "\n",
        "While this problem is stated clearly enough, it's always useful to try and express in your own words, in a way that makes it most clear for you. \n",
        "\n",
        "\n",
        "**Problem**\n",
        "\n",
        "First, understand how does a polynomial multiplication works?\n",
        "\n",
        "Say, we wish to multiply:  ($3x + 2$) with ($4x^2 – 7x + 5$).\n",
        "Then multiplication works like:\n",
        "![image.png](attachment:image.png)\n",
        "And result would be:\n",
        "![image-2.png](attachment:image-2.png)\n",
        "<br/>\n",
        "\n",
        "In simpler terms: \n",
        "\n",
        "A list polynomial represented as `[2, 3, 5, 7, 9]` can be read as: $2x^0 + 3x^1 + 5x^2 + 7x^3 + 9x^4$. \n",
        "\n",
        "i.e. The `index` value of the list can be interpreted as the power value of $x$.  \n",
        "\n",
        "For example, the lists `[2, 0, 5, 7]` and `[3, 4, 2]` represent the polynomials $2 + 5x^2 + 7x^3$ and $3 + 4x + 2x^2$. \n",
        "\n",
        "Their product is \n",
        "\n",
        "> $2 \\times (3 + 4x + 2x^2) + 5x^2 \\times (3 + 4x + 2x^2) + 7x^3 \\times (3 + 4x + 2x^2)$.\n",
        "> \n",
        "> $2 \\times 3 + 2 \\times 4x + 2 \\times 2x^2 + 5x^2 \\times 3 + 5x^2 \\times 4x + 5x^2 \\times 2x^2) + 7x^3 \\times 3 + 7x^3 \\times 4x + 7x^3 \\times 2x^2)$.\n",
        "> \n",
        "> $2 \\times 3 + (2 \\times 4)x + (2 \\times 2 + 5 \\times 3) x^2 + (5 \\times 4 + 7 \\times 3)x^3 + (5 \\times 2 + 7 \\times 4)x^4   + (7 \\times 2)x^5$.\n",
        "> \n",
        ">\n",
        "> $6 + 8x + 19x^2 + 41x^3 + 38x^4 + 14x^5$\n",
        "> \n",
        "> It can be represented by the list `[6, 8, 19, 41, 38, 14]`.\n",
        "\n",
        "\n",
        "**Input**\n",
        "\n",
        "1. `[2, 4, 0, 0, 5]` and `[4, 9, 5, 4]`\n",
        "2. `[2, 4]` and `[2, 7, 5]`\n",
        "\n",
        "\n",
        "**Output**\n",
        "\n",
        "1. `[8 34 46 28 36 45 25 20]`\n",
        "2. `[4 22 38 20]` \n",
        "\n",
        "<br/>\n",
        "\n",
        "Based on the above, we can now create a signature of our function:"
      ],
      "id": "remarkable-production"
    },
    {
      "cell_type": "code",
      "metadata": {
        "id": "governing-affair"
      },
      "source": [
        "def multiply(poly1, poly2):\n",
        "    pass"
      ],
      "id": "governing-affair",
      "execution_count": 6,
      "outputs": []
    },
    {
      "cell_type": "code",
      "metadata": {
        "colab": {
          "base_uri": "https://localhost:8080/",
          "height": 109
        },
        "id": "boxed-correction",
        "outputId": "85c8c59d-46cf-4269-d2d3-0ed07d264d3d"
      },
      "source": [
        "# import jovian\n",
        "jovian.commit()"
      ],
      "id": "boxed-correction",
      "execution_count": 7,
      "outputs": [
        {
          "output_type": "stream",
          "text": [
            "[jovian] Detected Colab notebook...\u001b[0m\n",
            "[jovian] Uploading colab notebook to Jovian...\u001b[0m\n",
            "[jovian] Capturing environment..\u001b[0m\n",
            "[jovian] Committed successfully! https://jovian.ai/jayeshkum/assignment-3-divide-and-conquer-practice\u001b[0m\n"
          ],
          "name": "stdout"
        },
        {
          "output_type": "execute_result",
          "data": {
            "application/vnd.google.colaboratory.intrinsic+json": {
              "type": "string"
            },
            "text/plain": [
              "'https://jovian.ai/jayeshkum/assignment-3-divide-and-conquer-practice'"
            ]
          },
          "metadata": {
            "tags": []
          },
          "execution_count": 7
        }
      ]
    },
    {
      "cell_type": "markdown",
      "metadata": {
        "id": "pressed-grove"
      },
      "source": [
        "### 2. Come up with some example inputs & outputs. Try to cover all edge cases.\n",
        "\n",
        "Our function should be able to handle any set of valid inputs we pass into it. List a few scenarios here:\n",
        "\n",
        "1. One list is empty (result would be `0s`)\n",
        "2. One list is of `1s` (result would be `Other List`).\n",
        "3. Both lists are same. \n",
        "4. Both lists are of same/different size (a really long list.).\n",
        "5. A list containing just one element.\n",
        "(add more if required)\n",
        "\n",
        "\n",
        "Create a test case of each of the above scenarios. We'll express our test cases as dictionaries, to test them easily. Each dictionary will contain 2 keys: `input` (a dictionary itself containing one key for each argument to the function and `output` (the expected result from the function). "
      ],
      "id": "pressed-grove"
    },
    {
      "cell_type": "code",
      "metadata": {
        "id": "authentic-depth"
      },
      "source": [
        "test0 = {\n",
        "    'input': {\n",
        "        'poly1': [2, 0, 5, 7],\n",
        "        'poly2': [3, 4, 2]\n",
        "    },\n",
        "    'output': [6, 8, 19, 41, 38, 14]\n",
        "}"
      ],
      "id": "authentic-depth",
      "execution_count": 8,
      "outputs": []
    },
    {
      "cell_type": "code",
      "metadata": {
        "id": "determined-rabbit"
      },
      "source": [
        "test1 = {\n",
        "    'input': {\n",
        "        'poly1': [2, 4, 0, 0, 5],\n",
        "        'poly2': [4, 9, 5, 4]\n",
        "    },\n",
        "    'output': [8, 34, 46, 28, 36, 45, 25, 20]\n",
        "}"
      ],
      "id": "determined-rabbit",
      "execution_count": 9,
      "outputs": []
    },
    {
      "cell_type": "code",
      "metadata": {
        "id": "current-serial"
      },
      "source": [
        "test2 = {\n",
        "    'input': {\n",
        "        'poly1': [2, 4],\n",
        "        'poly2': [2, 7, 5]\n",
        "    },\n",
        "    'output': [4, 22, 38, 20]\n",
        "}"
      ],
      "id": "current-serial",
      "execution_count": 10,
      "outputs": []
    },
    {
      "cell_type": "code",
      "metadata": {
        "id": "motivated-surveillance"
      },
      "source": [
        "test3 = {\n",
        "    'input': {\n",
        "        'poly1': [1, 1, 1],\n",
        "        'poly2': [2, 7, 5]\n",
        "    },\n",
        "    'output': [2, 9, 14, 12, 5]\n",
        "}"
      ],
      "id": "motivated-surveillance",
      "execution_count": 11,
      "outputs": []
    },
    {
      "cell_type": "code",
      "metadata": {
        "id": "color-while"
      },
      "source": [
        "test4 = {\n",
        "    'input': {\n",
        "        'poly1': [],\n",
        "        'poly2': [2, 7, 4]\n",
        "    },\n",
        "    'output': []\n",
        "}"
      ],
      "id": "color-while",
      "execution_count": 12,
      "outputs": []
    },
    {
      "cell_type": "code",
      "metadata": {
        "id": "indoor-paper"
      },
      "source": [
        "test5 = {\n",
        "    'input': {\n",
        "        'poly1': [0, 1],\n",
        "        'poly2': [2, 6, -5, 3, 4]\n",
        "    },\n",
        "    'output': [0, 2, 6, -5, 3, 4]\n",
        "}"
      ],
      "id": "indoor-paper",
      "execution_count": 13,
      "outputs": []
    },
    {
      "cell_type": "code",
      "metadata": {
        "id": "pressing-visibility"
      },
      "source": [
        "test6 = {\n",
        "    'input': {\n",
        "        'poly1': [1],\n",
        "        'poly2': [2, 6, 5, 3, 4]\n",
        "    },\n",
        "    'output': [2, 6, 5, 3, 4]\n",
        "}"
      ],
      "id": "pressing-visibility",
      "execution_count": 14,
      "outputs": []
    },
    {
      "cell_type": "code",
      "metadata": {
        "id": "hourly-burden"
      },
      "source": [
        "test7 = {\n",
        "    'input': {\n",
        "        'poly1': [],\n",
        "        'poly2': [1]\n",
        "    },\n",
        "    'output': []\n",
        "}"
      ],
      "id": "hourly-burden",
      "execution_count": 15,
      "outputs": []
    },
    {
      "cell_type": "code",
      "metadata": {
        "id": "separate-negotiation"
      },
      "source": [
        "test8 = {\n",
        "    'input': {\n",
        "        'poly1': [2, 5, 3, 1, -1],\n",
        "        'poly2': [1, 2, 2, 3, 6]\n",
        "    },\n",
        "    'output': [2, 9, 17, 23, 34, 39, 19, 3, -6]\n",
        "}"
      ],
      "id": "separate-negotiation",
      "execution_count": 17,
      "outputs": []
    },
    {
      "cell_type": "markdown",
      "metadata": {
        "id": "decreased-threshold"
      },
      "source": [
        "Let's store all the test cases in a list, for easier automated testing."
      ],
      "id": "decreased-threshold"
    },
    {
      "cell_type": "code",
      "metadata": {
        "id": "fantastic-aging"
      },
      "source": [
        "tests = [test0, test1, test2, test3, test4, test5, test6, test7, test8]"
      ],
      "id": "fantastic-aging",
      "execution_count": 18,
      "outputs": []
    },
    {
      "cell_type": "markdown",
      "metadata": {
        "id": "continuous-daily"
      },
      "source": [
        "### 3. Come up with a correct solution for the problem. State it in plain English.\n",
        "\n",
        "Our first goal should always be to come up with a _correct_ solution to the problem, which may not necessarily be the most _efficient_ solution. \n",
        "\n",
        "Here's the simplest solution: If you have lists `poly1` and `poly2` representing polynomials of length $m$ and $n$ respectively, the highest degree of the exponents are $m-1$ and $n-1$ respectively. Their product has the degree $(m - 1) + (n - 1)$ i.e $m + n - 2$. The list representing the product has the length $m + n - 1$. So, we can create a list `result` of length $m + n - 1$, and set \n",
        "\n",
        "`result[k]` = Sum of all the pairs `poly1[i] * poly2[j]` where `i+j = k`\n",
        "\n",
        "Example:\n",
        "\n",
        "$(2 + 5x^2 + 7x^3) \\times (3 + 4x + 2x^2)$\n",
        "\n",
        "$= (2 \\times 3) + (2 \\times 4 + 0 \\times 3)x + (2 \\times 2 + 3 \\times 5 + 4 \\times 0)x^2 + (7 \\times 3 + 5 \\times 4 + 0 \\times 2)x^3 + (7 \\times 4 + 5 \\times 2)x^4 + (7 \\times 2)x^5$\n",
        "\n",
        "$= 6 + 8x + 19x^2 + 41x^3 + 38x^4 + 14x^5$\n",
        "\n",
        "\n",
        "\n",
        "\n",
        "\n",
        "\n",
        "Explain this solution in your own words below:\n",
        "\n",
        "1. Create an emply list (result) with `len(poly1) + len(poly2) - 1`. \n",
        "2. Set the first element `result[0]` to `poly1[0]*poly2[0]` as this would be the value with multiplier $x^0$.\n",
        "3. Second element `result[1]` would be `poly1[1]*poly2[0]` + `poly1[0]*poly2[1]`, as these would have $x^1$ multiplier.\n",
        "4. Effectively, `index` could be read as the degree of the exponents and the value at the `index` as multiplier. \n",
        "5. i.e. `result[k]` = Sum of all the pairs `poly1[i] * poly2[j]` where `i+j = k`\n",
        "(add more steps if required)\n",
        "\n",
        "Let's save and upload our work before continuing.\n",
        "\n"
      ],
      "id": "continuous-daily"
    },
    {
      "cell_type": "markdown",
      "metadata": {
        "id": "silent-bandwidth"
      },
      "source": [
        "###  4. Implement the solution and test it using example inputs. Fix bugs, if any.\n",
        "\n",
        "Implement the solution:\n",
        "\n",
        "Polynomial multiplication in **O(n*m)** time"
      ],
      "id": "silent-bandwidth"
    },
    {
      "cell_type": "code",
      "metadata": {
        "id": "northern-devices"
      },
      "source": [
        "def multiply_basic(poly1, poly2):\n",
        "    m = len(poly1)\n",
        "    n = len(poly2)\n",
        "    \n",
        "    if m>0 and n>0:\n",
        "      result = [0]*(m + n - 1) \n",
        "      for i in range(m):\n",
        "        for j in range(n):\n",
        "          result[i+j] += poly1[i] * poly2[j]           \n",
        "    \n",
        "    elif m==0 or n==0:\n",
        "        result = [] \n",
        "    \n",
        "    elif n==0:\n",
        "        result = []\n",
        "    \n",
        "    return result"
      ],
      "id": "northern-devices",
      "execution_count": 34,
      "outputs": []
    },
    {
      "cell_type": "code",
      "metadata": {
        "colab": {
          "base_uri": "https://localhost:8080/"
        },
        "id": "increasing-health",
        "outputId": "caf0c73b-b5da-4955-84c2-e6852b9956d5"
      },
      "source": [
        "print('Input-1:', test1['input']['poly1'])\n",
        "print('Input-2:', test1['input']['poly2'])\n",
        "print('Expected output:', test1['output'])\n",
        "result1 = multiply_basic(test1['input']['poly1'], test1['input']['poly2'])\n",
        "print('Actual output:', result1)\n",
        "print('Match:', result1 == test1['output'])"
      ],
      "id": "increasing-health",
      "execution_count": 35,
      "outputs": [
        {
          "output_type": "stream",
          "text": [
            "Input-1: [2, 4, 0, 0, 5]\n",
            "Input-2: [4, 9, 5, 4]\n",
            "Expected output: [8, 34, 46, 28, 36, 45, 25, 20]\n",
            "Actual output: [8, 34, 46, 28, 36, 45, 25, 20]\n",
            "Match: True\n"
          ],
          "name": "stdout"
        }
      ]
    },
    {
      "cell_type": "code",
      "metadata": {
        "id": "exclusive-ability"
      },
      "source": [
        "from jovian.pythondsa import evaluate_test_cases"
      ],
      "id": "exclusive-ability",
      "execution_count": 21,
      "outputs": []
    },
    {
      "cell_type": "code",
      "metadata": {
        "colab": {
          "base_uri": "https://localhost:8080/"
        },
        "id": "wrong-kidney",
        "outputId": "5883f0af-49d3-4822-d62c-9c565446b7d6"
      },
      "source": [
        "results = evaluate_test_cases(multiply_basic, tests)"
      ],
      "id": "wrong-kidney",
      "execution_count": 36,
      "outputs": [
        {
          "output_type": "stream",
          "text": [
            "\n",
            "\u001b[1mTEST CASE #0\u001b[0m\n",
            "\n",
            "Input:\n",
            "{'poly1': [2, 0, 5, 7], 'poly2': [3, 4, 2]}\n",
            "\n",
            "Expected Output:\n",
            "[6, 8, 19, 41, 38, 14]\n",
            "\n",
            "\n",
            "Actual Output:\n",
            "[6, 8, 19, 41, 38, 14]\n",
            "\n",
            "Execution Time:\n",
            "0.026 ms\n",
            "\n",
            "Test Result:\n",
            "\u001b[92mPASSED\u001b[0m\n",
            "\n",
            "\n",
            "\u001b[1mTEST CASE #1\u001b[0m\n",
            "\n",
            "Input:\n",
            "{'poly1': [2, 4, 0, 0, 5], 'poly2': [4, 9, 5, 4]}\n",
            "\n",
            "Expected Output:\n",
            "[8, 34, 46, 28, 36, 45, 25, 20]\n",
            "\n",
            "\n",
            "Actual Output:\n",
            "[8, 34, 46, 28, 36, 45, 25, 20]\n",
            "\n",
            "Execution Time:\n",
            "0.015 ms\n",
            "\n",
            "Test Result:\n",
            "\u001b[92mPASSED\u001b[0m\n",
            "\n",
            "\n",
            "\u001b[1mTEST CASE #2\u001b[0m\n",
            "\n",
            "Input:\n",
            "{'poly1': [2, 4], 'poly2': [2, 7, 5]}\n",
            "\n",
            "Expected Output:\n",
            "[4, 22, 38, 20]\n",
            "\n",
            "\n",
            "Actual Output:\n",
            "[4, 22, 38, 20]\n",
            "\n",
            "Execution Time:\n",
            "0.008 ms\n",
            "\n",
            "Test Result:\n",
            "\u001b[92mPASSED\u001b[0m\n",
            "\n",
            "\n",
            "\u001b[1mTEST CASE #3\u001b[0m\n",
            "\n",
            "Input:\n",
            "{'poly1': [1, 1, 1], 'poly2': [2, 7, 5]}\n",
            "\n",
            "Expected Output:\n",
            "[2, 9, 14, 12, 5]\n",
            "\n",
            "\n",
            "Actual Output:\n",
            "[2, 9, 14, 12, 5]\n",
            "\n",
            "Execution Time:\n",
            "0.009 ms\n",
            "\n",
            "Test Result:\n",
            "\u001b[92mPASSED\u001b[0m\n",
            "\n",
            "\n",
            "\u001b[1mTEST CASE #4\u001b[0m\n",
            "\n",
            "Input:\n",
            "{'poly1': [], 'poly2': [2, 7, 4]}\n",
            "\n",
            "Expected Output:\n",
            "[]\n",
            "\n",
            "\n",
            "Actual Output:\n",
            "[]\n",
            "\n",
            "Execution Time:\n",
            "0.002 ms\n",
            "\n",
            "Test Result:\n",
            "\u001b[92mPASSED\u001b[0m\n",
            "\n",
            "\n",
            "\u001b[1mTEST CASE #5\u001b[0m\n",
            "\n",
            "Input:\n",
            "{'poly1': [0, 1], 'poly2': [2, 6, -5, 3, 4]}\n",
            "\n",
            "Expected Output:\n",
            "[0, 2, 6, -5, 3, 4]\n",
            "\n",
            "\n",
            "Actual Output:\n",
            "[0, 2, 6, -5, 3, 4]\n",
            "\n",
            "Execution Time:\n",
            "0.009 ms\n",
            "\n",
            "Test Result:\n",
            "\u001b[92mPASSED\u001b[0m\n",
            "\n",
            "\n",
            "\u001b[1mTEST CASE #6\u001b[0m\n",
            "\n",
            "Input:\n",
            "{'poly1': [1], 'poly2': [2, 6, 5, 3, 4]}\n",
            "\n",
            "Expected Output:\n",
            "[2, 6, 5, 3, 4]\n",
            "\n",
            "\n",
            "Actual Output:\n",
            "[2, 6, 5, 3, 4]\n",
            "\n",
            "Execution Time:\n",
            "0.005 ms\n",
            "\n",
            "Test Result:\n",
            "\u001b[92mPASSED\u001b[0m\n",
            "\n",
            "\n",
            "\u001b[1mTEST CASE #7\u001b[0m\n",
            "\n",
            "Input:\n",
            "{'poly1': [], 'poly2': [1]}\n",
            "\n",
            "Expected Output:\n",
            "[]\n",
            "\n",
            "\n",
            "Actual Output:\n",
            "[]\n",
            "\n",
            "Execution Time:\n",
            "0.002 ms\n",
            "\n",
            "Test Result:\n",
            "\u001b[92mPASSED\u001b[0m\n",
            "\n",
            "\n",
            "\u001b[1mTEST CASE #8\u001b[0m\n",
            "\n",
            "Input:\n",
            "{'poly1': [2, 5, 3, 1, -1], 'poly2': [1, 2, 2, 3, 6]}\n",
            "\n",
            "Expected Output:\n",
            "[2, 9, 17, 23, 34, 39, 19, 3, -6]\n",
            "\n",
            "\n",
            "Actual Output:\n",
            "[2, 9, 17, 23, 34, 39, 19, 3, -6]\n",
            "\n",
            "Execution Time:\n",
            "0.013 ms\n",
            "\n",
            "Test Result:\n",
            "\u001b[92mPASSED\u001b[0m\n",
            "\n",
            "\n",
            "\u001b[1mSUMMARY\u001b[0m\n",
            "\n",
            "TOTAL: 9, \u001b[92mPASSED\u001b[0m: 9, \u001b[91mFAILED\u001b[0m: 0\n"
          ],
          "name": "stdout"
        }
      ]
    },
    {
      "cell_type": "markdown",
      "metadata": {
        "id": "antique-reputation"
      },
      "source": [
        "Test your solution using the test cases you've defined above."
      ],
      "id": "antique-reputation"
    },
    {
      "cell_type": "markdown",
      "metadata": {
        "id": "cleared-drunk"
      },
      "source": [
        "### 5. Analyze the algorithm's complexity and identify inefficiencies, if any.\n",
        "\n",
        "Can you analyze the time and space complexity of this algorithm?"
      ],
      "id": "cleared-drunk"
    },
    {
      "cell_type": "code",
      "metadata": {
        "id": "vital-powell"
      },
      "source": [
        "multiply_basic_time_complexity = 'O(n^2)' # Time complexity is m+n-1, as we are calculating items for each result index"
      ],
      "id": "vital-powell",
      "execution_count": 23,
      "outputs": []
    },
    {
      "cell_type": "code",
      "metadata": {
        "id": "settled-there"
      },
      "source": [
        "multiply_basic_space_complexity = 'O(N*N)' \n",
        "# For calculating the result[i], we are storing all multiplication results, til we find i+j=k. Hence sm*n!"
      ],
      "id": "settled-there",
      "execution_count": 24,
      "outputs": []
    },
    {
      "cell_type": "markdown",
      "metadata": {
        "id": "developing-craps"
      },
      "source": [
        "### 6. Apply the right technique to overcome the inefficiency. Repeat steps 3 to 6.\n",
        "\n",
        "We can apply the divide and conquer technique to solve this problem more efficiently. Given two polynomials `A` and `B`, we can express each of them as a sum of two polynomials as follows:\n",
        "\n",
        "<img src=\"https://i.imgur.com/FjKQF5h.png\" width=\"480\">\n",
        "\n",
        "We need to compute the terms `A0 * B0`, `A1 * B0 + A0 * B1` and `A1 * B1`. This can obviously be done using 4 multiplications, but here's a way of doing it with just three multiplications:\n",
        "\n",
        "<img src=\"https://i.imgur.com/G3vD1GX.png\" width=\"480\">\n",
        "\n",
        "\n",
        "Each of the products can themselves be computed recursively. For a more detailed explanation of this approach see http://www.cse.ust.hk/~dekai/271/notes/L03/L03.pdf .\n",
        "\n",
        "\n",
        "Need help? Discuss and ask questions on the forum: https://jovian.ai/forum/c/data-structures-and-algorithms-in-python/assignment-3/89\n"
      ],
      "id": "developing-craps"
    },
    {
      "cell_type": "code",
      "metadata": {
        "colab": {
          "base_uri": "https://localhost:8080/",
          "height": 109
        },
        "id": "usual-third",
        "outputId": "bc60a131-0173-4724-ee95-0ed41ea032c6"
      },
      "source": [
        "# import jovian\n",
        "jovian.commit()"
      ],
      "id": "usual-third",
      "execution_count": null,
      "outputs": [
        {
          "output_type": "stream",
          "text": [
            "[jovian] Detected Colab notebook...\u001b[0m\n",
            "[jovian] Uploading colab notebook to Jovian...\u001b[0m\n",
            "[jovian] Capturing environment..\u001b[0m\n",
            "[jovian] Committed successfully! https://jovian.ai/jayeshkum/assignment-3-divide-and-conquer-practice\u001b[0m\n"
          ],
          "name": "stdout"
        },
        {
          "output_type": "execute_result",
          "data": {
            "application/vnd.google.colaboratory.intrinsic+json": {
              "type": "string"
            },
            "text/plain": [
              "'https://jovian.ai/jayeshkum/assignment-3-divide-and-conquer-practice'"
            ]
          },
          "metadata": {
            "tags": []
          },
          "execution_count": 36
        }
      ]
    },
    {
      "cell_type": "markdown",
      "metadata": {
        "id": "handed-senegal"
      },
      "source": [
        "### 7. Come up with a correct solution for the problem. State it in plain English.\n",
        "\n",
        "Explain the approach described above in your own words below:\n",
        "\n",
        "1. Divide the polynomials A & B in smaller polynomials Such as $A(x)$ as $A0(x)$ and $A1(x)$(say half)\n",
        "2. The original problem of size `n` is divided into 4 problems of input size `n/2`.\n",
        "3. Solve the four subproblems, by recursively calling the algorithm 4 times.\n",
        "\n",
        "(add more steps if required)\n",
        "\n",
        "\n",
        "Let's save and upload our work before continuing."
      ],
      "id": "handed-senegal"
    },
    {
      "cell_type": "markdown",
      "metadata": {
        "id": "increasing-accessory"
      },
      "source": [
        "### 8. Implement the solution and test it using example inputs. Fix bugs, if any.\n",
        "\n",
        "We are now ready to implement the solution. You may find the following functions `add`, `split` and `increase_exponent` useful.\n"
      ],
      "id": "increasing-accessory"
    },
    {
      "cell_type": "code",
      "metadata": {
        "id": "alive-inflation"
      },
      "source": [
        "def add(poly1, poly2):\n",
        "    \"\"\"Add two polynomials\"\"\"\n",
        "    result = [0] * max(len(poly1), len(poly2))\n",
        "    for i in range(len(result)):\n",
        "        if i < len(poly1):\n",
        "            result[i] += poly1[i]\n",
        "        if i < len(poly2):\n",
        "            result[i] += poly2[i]\n",
        "    return result\n"
      ],
      "id": "alive-inflation",
      "execution_count": 25,
      "outputs": []
    },
    {
      "cell_type": "code",
      "metadata": {
        "colab": {
          "base_uri": "https://localhost:8080/"
        },
        "id": "italic-little",
        "outputId": "5d446c18-943a-4a76-be1e-84ae90cb21cf"
      },
      "source": [
        "add([1, 2, 3, 4], [0, 4, 3])"
      ],
      "id": "italic-little",
      "execution_count": 26,
      "outputs": [
        {
          "output_type": "execute_result",
          "data": {
            "text/plain": [
              "[1, 6, 6, 4]"
            ]
          },
          "metadata": {
            "tags": []
          },
          "execution_count": 26
        }
      ]
    },
    {
      "cell_type": "code",
      "metadata": {
        "id": "tight-citation"
      },
      "source": [
        "def split(poly1, poly2):\n",
        "    \"\"\"Split each polynomial into two smaller polynomials\"\"\"\n",
        "    if max(len(poly1), len(poly2)) > 2: \n",
        "        mid = max(len(poly1), len(poly2)) // 2\n",
        "    else:\n",
        "        mid = 1\n",
        "    return  (poly1[:mid], poly1[mid:]), (poly2[:mid], poly2[mid:])"
      ],
      "id": "tight-citation",
      "execution_count": 27,
      "outputs": []
    },
    {
      "cell_type": "code",
      "metadata": {
        "colab": {
          "base_uri": "https://localhost:8080/"
        },
        "id": "starting-continent",
        "outputId": "199944eb-a0ff-48f9-f2f8-85cdf754e295"
      },
      "source": [
        "split([1, 2, 3, 4], [0, 4, 3, 6, 7, 8, 2])"
      ],
      "id": "starting-continent",
      "execution_count": 28,
      "outputs": [
        {
          "output_type": "execute_result",
          "data": {
            "text/plain": [
              "(([1, 2, 3], [4]), ([0, 4, 3], [6, 7, 8, 2]))"
            ]
          },
          "metadata": {
            "tags": []
          },
          "execution_count": 28
        }
      ]
    },
    {
      "cell_type": "code",
      "metadata": {
        "id": "sunrise-bleeding"
      },
      "source": [
        "def increase_exponent(poly, n):\n",
        "    \"\"\"Multiply poly1 by x^n\"\"\"\n",
        "    return [0] * n + poly"
      ],
      "id": "sunrise-bleeding",
      "execution_count": 29,
      "outputs": []
    },
    {
      "cell_type": "code",
      "metadata": {
        "colab": {
          "base_uri": "https://localhost:8080/"
        },
        "id": "controlling-rainbow",
        "outputId": "13d94b6c-4ff0-48c0-da50-83adbab3b526"
      },
      "source": [
        "increase_exponent([1, 2, 3, 4], 3)"
      ],
      "id": "controlling-rainbow",
      "execution_count": 30,
      "outputs": [
        {
          "output_type": "execute_result",
          "data": {
            "text/plain": [
              "[0, 0, 0, 1, 2, 3, 4]"
            ]
          },
          "metadata": {
            "tags": []
          },
          "execution_count": 30
        }
      ]
    },
    {
      "cell_type": "markdown",
      "metadata": {
        "id": "differential-center"
      },
      "source": [
        "Implement the optimized multiplication algorithm below. You may use the some or all of the helper functions defined above."
      ],
      "id": "differential-center"
    },
    {
      "cell_type": "code",
      "metadata": {
        "id": "Z1kKBxjnr7Zl"
      },
      "source": [
        "# What this does is takes the first element of poly1, multiplies all elements of poly2\r\n",
        "\r\n",
        "\r\n",
        "# Standardizes the polynomial (Gets rid of trailing 0s)\r\n",
        "def standardize(poly):\r\n",
        "    poly = list(poly) # make a copy\r\n",
        "    if poly[len(poly)-1] == 0: # Check if the last element in the list is 0\r\n",
        "        poly.pop() #If last element is zero, remove from the list\r\n",
        "    return poly\r\n",
        "\r\n",
        "# Finds if the polynomial is 0\r\n",
        "def isZeroPoly(poly):\r\n",
        "    if poly == []: # Check if poly is blank [] or [0]<= standardize would remove the zero and return []\r\n",
        "        return True\r\n",
        "    else:\r\n",
        "        return False\r\n",
        "\r\n",
        "# Scales the polynomial by the scale variable ((3,[1,2,3]) => [3,6,9])\r\n",
        "def scalePoly(scale,poly):\r\n",
        "    poly = list(poly)\r\n",
        "    for x in range(0,len(poly)): # For final assembly of resulting poly\r\n",
        "        poly[x] = (poly[x] * scale)\r\n",
        "    poly = standardize(poly)\r\n",
        "    return poly\r\n",
        "\r\n",
        "# Gives the constant in the polynomial ([2,3,4] => [2])\r\n",
        "def constCoef(poly):\r\n",
        "    constant = poly[0]\r\n",
        "    return constant\r\n",
        "\r\n",
        "# Shifts the polynomial left ([2,3,4] => [0,2,3,4])\r\n",
        "def shiftLeft(poly):\r\n",
        "    newpoly = []\r\n",
        "    newpoly.append(0)\r\n",
        "    for x in range(0,len(poly)): # Increase exponent\r\n",
        "        newpoly.append(poly[x])\r\n",
        "    return newpoly\r\n",
        "\r\n",
        "# Shifts the polynomial right ([2,3,4] => [3,4])\r\n",
        "def shiftRight(poly):\r\n",
        "    #poly.remove(poly[0])\r\n",
        "    return poly[1:]\r\n",
        "\r\n",
        "def multiply_optimized(poly1, poly2):\r\n",
        "    # print (poly1, poly2)\r\n",
        "    if isZeroPoly(poly1):\r\n",
        "        return []\r\n",
        "    else:\r\n",
        "        return add(\r\n",
        "            multiply_optimized(shiftRight(poly1), shiftLeft(poly2)),\r\n",
        "            scalePoly(constCoef(poly1), poly2)\r\n",
        "        )\r\n",
        "        "
      ],
      "id": "Z1kKBxjnr7Zl",
      "execution_count": 31,
      "outputs": []
    },
    {
      "cell_type": "code",
      "metadata": {
        "colab": {
          "base_uri": "https://localhost:8080/"
        },
        "id": "following-prince",
        "outputId": "8ed0f12e-e0aa-4156-9210-be260848b9cb"
      },
      "source": [
        "multiply_optimized([1, 2, 3, 4], [0, 4, 3, 6, 7, 8, 2])"
      ],
      "id": "following-prince",
      "execution_count": 32,
      "outputs": [
        {
          "output_type": "execute_result",
          "data": {
            "text/plain": [
              "[0, 4, 11, 24, 44, 52, 63, 56, 38, 8]"
            ]
          },
          "metadata": {
            "tags": []
          },
          "execution_count": 32
        }
      ]
    },
    {
      "cell_type": "markdown",
      "metadata": {
        "id": "linear-partnership"
      },
      "source": [
        "Test your solution using the empty cells below."
      ],
      "id": "linear-partnership"
    },
    {
      "cell_type": "code",
      "metadata": {
        "colab": {
          "base_uri": "https://localhost:8080/"
        },
        "id": "material-norman",
        "outputId": "f59fe52d-19ff-460f-eccd-76f16e08e368"
      },
      "source": [
        "results = evaluate_test_cases(multiply_optimized, tests)"
      ],
      "id": "material-norman",
      "execution_count": 33,
      "outputs": [
        {
          "output_type": "stream",
          "text": [
            "\n",
            "\u001b[1mTEST CASE #0\u001b[0m\n",
            "\n",
            "Input:\n",
            "{'poly1': [2, 0, 5, 7], 'poly2': [3, 4, 2]}\n",
            "\n",
            "Expected Output:\n",
            "[6, 8, 19, 41, 38, 14]\n",
            "\n",
            "\n",
            "Actual Output:\n",
            "[6, 8, 19, 41, 38, 14]\n",
            "\n",
            "Execution Time:\n",
            "0.059 ms\n",
            "\n",
            "Test Result:\n",
            "\u001b[92mPASSED\u001b[0m\n",
            "\n",
            "\n",
            "\u001b[1mTEST CASE #1\u001b[0m\n",
            "\n",
            "Input:\n",
            "{'poly1': [2, 4, 0, 0, 5], 'poly2': [4, 9, 5, 4]}\n",
            "\n",
            "Expected Output:\n",
            "[8, 34, 46, 28, 36, 45, 25, 20]\n",
            "\n",
            "\n",
            "Actual Output:\n",
            "[8, 34, 46, 28, 36, 45, 25, 20]\n",
            "\n",
            "Execution Time:\n",
            "0.059 ms\n",
            "\n",
            "Test Result:\n",
            "\u001b[92mPASSED\u001b[0m\n",
            "\n",
            "\n",
            "\u001b[1mTEST CASE #2\u001b[0m\n",
            "\n",
            "Input:\n",
            "{'poly1': [2, 4], 'poly2': [2, 7, 5]}\n",
            "\n",
            "Expected Output:\n",
            "[4, 22, 38, 20]\n",
            "\n",
            "\n",
            "Actual Output:\n",
            "[4, 22, 38, 20]\n",
            "\n",
            "Execution Time:\n",
            "0.024 ms\n",
            "\n",
            "Test Result:\n",
            "\u001b[92mPASSED\u001b[0m\n",
            "\n",
            "\n",
            "\u001b[1mTEST CASE #3\u001b[0m\n",
            "\n",
            "Input:\n",
            "{'poly1': [1, 1, 1], 'poly2': [2, 7, 5]}\n",
            "\n",
            "Expected Output:\n",
            "[2, 9, 14, 12, 5]\n",
            "\n",
            "\n",
            "Actual Output:\n",
            "[2, 9, 14, 12, 5]\n",
            "\n",
            "Execution Time:\n",
            "0.057 ms\n",
            "\n",
            "Test Result:\n",
            "\u001b[92mPASSED\u001b[0m\n",
            "\n",
            "\n",
            "\u001b[1mTEST CASE #4\u001b[0m\n",
            "\n",
            "Input:\n",
            "{'poly1': [], 'poly2': [2, 7, 4]}\n",
            "\n",
            "Expected Output:\n",
            "[]\n",
            "\n",
            "\n",
            "Actual Output:\n",
            "[]\n",
            "\n",
            "Execution Time:\n",
            "0.002 ms\n",
            "\n",
            "Test Result:\n",
            "\u001b[92mPASSED\u001b[0m\n",
            "\n",
            "\n",
            "\u001b[1mTEST CASE #5\u001b[0m\n",
            "\n",
            "Input:\n",
            "{'poly1': [0, 1], 'poly2': [2, 6, -5, 3, 4]}\n",
            "\n",
            "Expected Output:\n",
            "[0, 2, 6, -5, 3, 4]\n",
            "\n",
            "\n",
            "Actual Output:\n",
            "[0, 2, 6, -5, 3, 4]\n",
            "\n",
            "Execution Time:\n",
            "0.028 ms\n",
            "\n",
            "Test Result:\n",
            "\u001b[92mPASSED\u001b[0m\n",
            "\n",
            "\n",
            "\u001b[1mTEST CASE #6\u001b[0m\n",
            "\n",
            "Input:\n",
            "{'poly1': [1], 'poly2': [2, 6, 5, 3, 4]}\n",
            "\n",
            "Expected Output:\n",
            "[2, 6, 5, 3, 4]\n",
            "\n",
            "\n",
            "Actual Output:\n",
            "[2, 6, 5, 3, 4]\n",
            "\n",
            "Execution Time:\n",
            "0.016 ms\n",
            "\n",
            "Test Result:\n",
            "\u001b[92mPASSED\u001b[0m\n",
            "\n",
            "\n",
            "\u001b[1mTEST CASE #7\u001b[0m\n",
            "\n",
            "Input:\n",
            "{'poly1': [], 'poly2': [1]}\n",
            "\n",
            "Expected Output:\n",
            "[]\n",
            "\n",
            "\n",
            "Actual Output:\n",
            "[]\n",
            "\n",
            "Execution Time:\n",
            "0.002 ms\n",
            "\n",
            "Test Result:\n",
            "\u001b[92mPASSED\u001b[0m\n",
            "\n",
            "\n",
            "\u001b[1mTEST CASE #8\u001b[0m\n",
            "\n",
            "Input:\n",
            "{'poly1': [2, 5, 3, 1, -1], 'poly2': [1, 2, 2, 3, 6]}\n",
            "\n",
            "Expected Output:\n",
            "[2, 9, 17, 23, 34, 39, 19, 3, -6]\n",
            "\n",
            "\n",
            "Actual Output:\n",
            "[2, 9, 17, 23, 34, 39, 19, 3, -6]\n",
            "\n",
            "Execution Time:\n",
            "0.063 ms\n",
            "\n",
            "Test Result:\n",
            "\u001b[92mPASSED\u001b[0m\n",
            "\n",
            "\n",
            "\u001b[1mSUMMARY\u001b[0m\n",
            "\n",
            "TOTAL: 9, \u001b[92mPASSED\u001b[0m: 9, \u001b[91mFAILED\u001b[0m: 0\n"
          ],
          "name": "stdout"
        }
      ]
    },
    {
      "cell_type": "code",
      "metadata": {
        "colab": {
          "base_uri": "https://localhost:8080/",
          "height": 109
        },
        "id": "dietary-bottom",
        "outputId": "058ed5ca-d422-4a5d-efa8-88eae9b2a217"
      },
      "source": [
        "# import jovian\n",
        "jovian.commit()"
      ],
      "id": "dietary-bottom",
      "execution_count": null,
      "outputs": [
        {
          "output_type": "stream",
          "text": [
            "[jovian] Detected Colab notebook...\u001b[0m\n",
            "[jovian] Uploading colab notebook to Jovian...\u001b[0m\n",
            "[jovian] Capturing environment..\u001b[0m\n",
            "[jovian] Committed successfully! https://jovian.ai/jayeshkum/assignment-3-divide-and-conquer-practice\u001b[0m\n"
          ],
          "name": "stdout"
        },
        {
          "output_type": "execute_result",
          "data": {
            "application/vnd.google.colaboratory.intrinsic+json": {
              "type": "string"
            },
            "text/plain": [
              "'https://jovian.ai/jayeshkum/assignment-3-divide-and-conquer-practice'"
            ]
          },
          "metadata": {
            "tags": []
          },
          "execution_count": 33
        }
      ]
    },
    {
      "cell_type": "code",
      "metadata": {
        "id": "VuMjwDyT1i5w"
      },
      "source": [
        ""
      ],
      "id": "VuMjwDyT1i5w",
      "execution_count": null,
      "outputs": []
    },
    {
      "cell_type": "markdown",
      "metadata": {
        "id": "protected-quarter"
      },
      "source": [
        "## Make a Submission\n",
        "\n",
        "Congrats! You have now implemented hash tables from scratch. The rest of this assignment is optional.\n",
        "\n",
        "You can make a submission on this page: https://jovian.ai/learn/data-structures-and-algorithms-in-python/assignment/assignment-3-sorting-and-divide-conquer-practice\n",
        "\n",
        "Submit the link to your Jovian notebook (the output of the previous cell).\n",
        "You can also make a direct submission by executing the following cell:"
      ],
      "id": "protected-quarter"
    },
    {
      "cell_type": "code",
      "metadata": {
        "colab": {
          "base_uri": "https://localhost:8080/"
        },
        "id": "normal-democrat",
        "outputId": "c8a739ce-1a5f-4b45-cde0-fc4a00a2cdcd"
      },
      "source": [
        "jovian.submit(assignment=\"pythondsa-assignment3\")"
      ],
      "id": "normal-democrat",
      "execution_count": 46,
      "outputs": [
        {
          "output_type": "stream",
          "text": [
            "[jovian] Detected Colab notebook...\u001b[0m\n",
            "[jovian] Uploading colab notebook to Jovian...\u001b[0m\n",
            "[jovian] Capturing environment..\u001b[0m\n",
            "[jovian] Committed successfully! https://jovian.ai/jayeshkum/assignment-3-divide-and-conquer-practice\u001b[0m\n",
            "[jovian] Submitting assignment..\u001b[0m\n",
            "[jovian] Verify your submission at https://jovian.ai/learn/data-structures-and-algorithms-in-python/assignment/assignment-3-sorting-and-divide-conquer-practice\u001b[0m\n"
          ],
          "name": "stdout"
        }
      ]
    },
    {
      "cell_type": "markdown",
      "metadata": {
        "id": "spectacular-guarantee"
      },
      "source": [
        "### (Optional) 9. Analyze the algorithm's complexity and identify inefficiencies, if any.\n",
        "\n",
        "Can you analyze the time and space complexity of this algorithm? \n",
        "\n",
        "Hint: See the tree of subproblems below ([source](https://myithelpcentral.blogspot.com/2015/09/o-logn-notation-explanation-for-binary.html)). Substitute the right values for `n` and `b` to determine the time complexity.\n",
        "\n",
        "![](https://i.imgur.com/JAmZrE5.png)"
      ],
      "id": "spectacular-guarantee"
    },
    {
      "cell_type": "code",
      "metadata": {
        "id": "x0zGnuUp-3jE"
      },
      "source": [
        "multiply_optimized_time_complexity = 'O(log n)'\r\n",
        "multiply_optimized_space_complexity = 'O(log n)'"
      ],
      "id": "x0zGnuUp-3jE",
      "execution_count": 44,
      "outputs": []
    },
    {
      "cell_type": "code",
      "metadata": {
        "colab": {
          "base_uri": "https://localhost:8080/",
          "height": 109
        },
        "id": "stupid-cosmetic",
        "outputId": "732ceae9-e68e-42fb-afcc-b81cd26a29e9"
      },
      "source": [
        "# import jovian\n",
        "jovian.commit()"
      ],
      "id": "stupid-cosmetic",
      "execution_count": 45,
      "outputs": [
        {
          "output_type": "stream",
          "text": [
            "[jovian] Detected Colab notebook...\u001b[0m\n",
            "[jovian] Uploading colab notebook to Jovian...\u001b[0m\n",
            "[jovian] Capturing environment..\u001b[0m\n",
            "[jovian] Committed successfully! https://jovian.ai/jayeshkum/assignment-3-divide-and-conquer-practice\u001b[0m\n"
          ],
          "name": "stdout"
        },
        {
          "output_type": "execute_result",
          "data": {
            "application/vnd.google.colaboratory.intrinsic+json": {
              "type": "string"
            },
            "text/plain": [
              "'https://jovian.ai/jayeshkum/assignment-3-divide-and-conquer-practice'"
            ]
          },
          "metadata": {
            "tags": []
          },
          "execution_count": 45
        }
      ]
    },
    {
      "cell_type": "code",
      "metadata": {
        "id": "b9rMLYb4cwor"
      },
      "source": [
        ""
      ],
      "id": "b9rMLYb4cwor",
      "execution_count": null,
      "outputs": []
    }
  ]
}